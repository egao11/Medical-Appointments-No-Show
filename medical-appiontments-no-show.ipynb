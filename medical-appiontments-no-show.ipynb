{
 "cells": [
  {
   "cell_type": "markdown",
   "id": "4e20e510",
   "metadata": {
    "papermill": {
     "duration": 0.003563,
     "end_time": "2025-08-18T15:59:13.530305",
     "exception": false,
     "start_time": "2025-08-18T15:59:13.526742",
     "status": "completed"
    },
    "tags": []
   },
   "source": [
    "# Medical Appointment No-Show Analysis\n",
    "**Subtitle:** What drives patients to miss appointments, and how can a clinic reduce no-shows?\n",
    "\n",
    "**My role (POV):** I’m an aspiring data analyst building an end-to-end, business-ready analysis. My aim is to clean the data, engineer actionable features, quantify no-show drivers, and translate insights into low-effort interventions a clinic can deploy.\n",
    "\n",
    "**Audience:** Clinic ops leads, schedulers, and analysts.\n",
    "\n",
    "**Primary questions**\n",
    "1) What’s the overall no-show rate? 2) Which factors most increase/decrease that risk?  \n",
    "3) What can the clinic change tomorrow (e.g., reminders, scheduling, lead time) to improve show rates?\n",
    "\n",
    "**Hypotheses (to test)**\n",
    "- Longer wait time (Scheduled → Appointment) increases no-shows.  \n",
    "- SMS reminders reduce no-shows.  \n",
    "- Scholarship (financial support) correlates with higher no-show risk.  \n",
    "- Risk varies by age group, day of week, and neighborhood.\n",
    "\n",
    "**Plan**\n",
    "1) Ingest & audit → 2) Clean & standardize → 3) Feature engineering → 4) EDA (univariate & bivariate)  \n",
    "5) Simple baseline model for signal/priority → 6) Recommendations, limitations, next steps."
   ]
  },
  {
   "cell_type": "code",
   "execution_count": 1,
   "id": "03a73f18",
   "metadata": {
    "execution": {
     "iopub.execute_input": "2025-08-18T15:59:13.537373Z",
     "iopub.status.busy": "2025-08-18T15:59:13.537049Z",
     "iopub.status.idle": "2025-08-18T15:59:15.362222Z",
     "shell.execute_reply": "2025-08-18T15:59:15.361398Z"
    },
    "papermill": {
     "duration": 1.830636,
     "end_time": "2025-08-18T15:59:15.363936",
     "exception": false,
     "start_time": "2025-08-18T15:59:13.533300",
     "status": "completed"
    },
    "tags": []
   },
   "outputs": [],
   "source": [
    "import pandas as pd"
   ]
  },
  {
   "cell_type": "markdown",
   "id": "ba4cfb4d",
   "metadata": {
    "papermill": {
     "duration": 0.003043,
     "end_time": "2025-08-18T15:59:15.370201",
     "exception": false,
     "start_time": "2025-08-18T15:59:15.367158",
     "status": "completed"
    },
    "tags": []
   },
   "source": [
    "## Data Snapshot & Assumptions\n",
    "**Columns I expect** (from the common dataset):  \n",
    "`PatientId, AppointmentID, Gender, ScheduledDay, AppointmentDay, Age, Neighbourhood, Scholarship, Hypertension, Diabetes, Alcoholism, Handcap, SMS_received, No-show`\n",
    "\n",
    "**Target:** `No-show` (Yes/No) which I will convert to a binary label (`1 = no-show`, `0 = showed`).  \n",
    "**Keys:** `AppointmentID` (unique visit); `PatientId` (may repeat).  \n",
    "**Granularity:** One row = one scheduled appointment.\n",
    "\n",
    "**Success criteria for this notebook**\n",
    "- Clean dataset with consistent types and realistic values.  \n",
    "- Clear feature set that tracks operational levers (lead time, day-of-week, SMS, etc.).  \n",
    "- Visuals showing rates and effect sizes that a non-technical stakeholder can read quickly.  \n",
    "- A short, actionable playbook (what to try first, expected impact)."
   ]
  },
  {
   "cell_type": "markdown",
   "id": "15585fc3",
   "metadata": {
    "papermill": {
     "duration": 0.00335,
     "end_time": "2025-08-18T15:59:15.376549",
     "exception": false,
     "start_time": "2025-08-18T15:59:15.373199",
     "status": "completed"
    },
    "tags": []
   },
   "source": [
    "## Load & Audit\n",
    "**Goal:** Confirm schema, ranges, and immediate red flags before I touch anything.\n",
    "\n",
    "**What I do here**\n",
    "- Load CSV/Excel.  \n",
    "- Preview head/tail.  \n",
    "- `info()` and missing-value audit.  \n",
    "- Quick validity checks (e.g., negative ages, future dates).\n",
    "\n",
    "**I expect to see**\n",
    "- Dates parseable as timestamps.  \n",
    "- Categorical values with sane cardinality (e.g., limited neighborhoods).  \n",
    "- Some data quality issues (typos, odd ages like 0 or >100)."
   ]
  },
  {
   "cell_type": "code",
   "execution_count": 2,
   "id": "236539bc",
   "metadata": {
    "execution": {
     "iopub.execute_input": "2025-08-18T15:59:15.383758Z",
     "iopub.status.busy": "2025-08-18T15:59:15.383372Z",
     "iopub.status.idle": "2025-08-18T15:59:15.884675Z",
     "shell.execute_reply": "2025-08-18T15:59:15.883543Z"
    },
    "papermill": {
     "duration": 0.507429,
     "end_time": "2025-08-18T15:59:15.887007",
     "exception": false,
     "start_time": "2025-08-18T15:59:15.379578",
     "status": "completed"
    },
    "tags": []
   },
   "outputs": [
    {
     "name": "stdout",
     "output_type": "stream",
     "text": [
      "<class 'pandas.core.frame.DataFrame'>\n",
      "RangeIndex: 110527 entries, 0 to 110526\n",
      "Data columns (total 14 columns):\n",
      " #   Column          Non-Null Count   Dtype  \n",
      "---  ------          --------------   -----  \n",
      " 0   PatientId       110527 non-null  float64\n",
      " 1   AppointmentID   110527 non-null  int64  \n",
      " 2   Gender          110527 non-null  object \n",
      " 3   ScheduledDay    110527 non-null  object \n",
      " 4   AppointmentDay  110527 non-null  object \n",
      " 5   Age             110527 non-null  int64  \n",
      " 6   Neighbourhood   110527 non-null  object \n",
      " 7   Scholarship     110527 non-null  int64  \n",
      " 8   Hipertension    110527 non-null  int64  \n",
      " 9   Diabetes        110527 non-null  int64  \n",
      " 10  Alcoholism      110527 non-null  int64  \n",
      " 11  Handcap         110527 non-null  int64  \n",
      " 12  SMS_received    110527 non-null  int64  \n",
      " 13  No-show         110527 non-null  object \n",
      "dtypes: float64(1), int64(8), object(5)\n",
      "memory usage: 11.8+ MB\n"
     ]
    }
   ],
   "source": [
    "# Load data\n",
    "df = pd.read_csv('/kaggle/input/noshowappointments/KaggleV2-May-2016.csv')\n",
    "\n",
    "# Quick check\n",
    "df.head()\n",
    "df.info()"
   ]
  },
  {
   "cell_type": "markdown",
   "id": "8fd32482",
   "metadata": {
    "papermill": {
     "duration": 0.002777,
     "end_time": "2025-08-18T15:59:15.893774",
     "exception": false,
     "start_time": "2025-08-18T15:59:15.890997",
     "status": "completed"
    },
    "tags": []
   },
   "source": [
    "## Cleaning & Standardization\n",
    "**Goal:** Make the dataset analysis-ready and safe for aggregation.\n",
    "\n",
    "**Actions**\n",
    "- Parse `ScheduledDay` and `AppointmentDay` to datetime (UTC-aware if needed); set time component aside.  \n",
    "- Drop impossible ages (e.g., `<0`), cap extreme outliers (e.g., `>100`) or tag them for sensitivity checks.  \n",
    "- Canonicalize categoricals: `Gender` to {F,M}, trim `Neighbourhood`, coerce `Handcap` to integer (some datasets store 0–4).  \n",
    "- Ensure `AppointmentID` uniqueness; if duplicates exist, keep first occurrence.  \n",
    "- Convert flags to 0/1: `Scholarship, Hypertension, Diabetes, Alcoholism, SMS_received`.\n",
    "\n",
    "**Why this matters**\n",
    "Reliable types and ranges prevent silent aggregation bugs and make model features trustworthy."
   ]
  },
  {
   "cell_type": "code",
   "execution_count": 3,
   "id": "ceba6157",
   "metadata": {
    "execution": {
     "iopub.execute_input": "2025-08-18T15:59:15.901368Z",
     "iopub.status.busy": "2025-08-18T15:59:15.900639Z",
     "iopub.status.idle": "2025-08-18T15:59:15.965406Z",
     "shell.execute_reply": "2025-08-18T15:59:15.964518Z"
    },
    "papermill": {
     "duration": 0.070454,
     "end_time": "2025-08-18T15:59:15.967159",
     "exception": false,
     "start_time": "2025-08-18T15:59:15.896705",
     "status": "completed"
    },
    "tags": []
   },
   "outputs": [
    {
     "data": {
      "text/html": [
       "<div>\n",
       "<style scoped>\n",
       "    .dataframe tbody tr th:only-of-type {\n",
       "        vertical-align: middle;\n",
       "    }\n",
       "\n",
       "    .dataframe tbody tr th {\n",
       "        vertical-align: top;\n",
       "    }\n",
       "\n",
       "    .dataframe thead th {\n",
       "        text-align: right;\n",
       "    }\n",
       "</style>\n",
       "<table border=\"1\" class=\"dataframe\">\n",
       "  <thead>\n",
       "    <tr style=\"text-align: right;\">\n",
       "      <th></th>\n",
       "      <th>PatientId</th>\n",
       "      <th>AppointmentID</th>\n",
       "      <th>Age</th>\n",
       "      <th>Scholarship</th>\n",
       "      <th>Hipertension</th>\n",
       "      <th>Diabetes</th>\n",
       "      <th>Alcoholism</th>\n",
       "      <th>Handcap</th>\n",
       "      <th>SMS_received</th>\n",
       "    </tr>\n",
       "  </thead>\n",
       "  <tbody>\n",
       "    <tr>\n",
       "      <th>count</th>\n",
       "      <td>1.105270e+05</td>\n",
       "      <td>1.105270e+05</td>\n",
       "      <td>110527.000000</td>\n",
       "      <td>110527.000000</td>\n",
       "      <td>110527.000000</td>\n",
       "      <td>110527.000000</td>\n",
       "      <td>110527.000000</td>\n",
       "      <td>110527.000000</td>\n",
       "      <td>110527.000000</td>\n",
       "    </tr>\n",
       "    <tr>\n",
       "      <th>mean</th>\n",
       "      <td>1.474963e+14</td>\n",
       "      <td>5.675305e+06</td>\n",
       "      <td>37.088874</td>\n",
       "      <td>0.098266</td>\n",
       "      <td>0.197246</td>\n",
       "      <td>0.071865</td>\n",
       "      <td>0.030400</td>\n",
       "      <td>0.022248</td>\n",
       "      <td>0.321026</td>\n",
       "    </tr>\n",
       "    <tr>\n",
       "      <th>std</th>\n",
       "      <td>2.560949e+14</td>\n",
       "      <td>7.129575e+04</td>\n",
       "      <td>23.110205</td>\n",
       "      <td>0.297675</td>\n",
       "      <td>0.397921</td>\n",
       "      <td>0.258265</td>\n",
       "      <td>0.171686</td>\n",
       "      <td>0.161543</td>\n",
       "      <td>0.466873</td>\n",
       "    </tr>\n",
       "    <tr>\n",
       "      <th>min</th>\n",
       "      <td>3.921784e+04</td>\n",
       "      <td>5.030230e+06</td>\n",
       "      <td>-1.000000</td>\n",
       "      <td>0.000000</td>\n",
       "      <td>0.000000</td>\n",
       "      <td>0.000000</td>\n",
       "      <td>0.000000</td>\n",
       "      <td>0.000000</td>\n",
       "      <td>0.000000</td>\n",
       "    </tr>\n",
       "    <tr>\n",
       "      <th>25%</th>\n",
       "      <td>4.172614e+12</td>\n",
       "      <td>5.640286e+06</td>\n",
       "      <td>18.000000</td>\n",
       "      <td>0.000000</td>\n",
       "      <td>0.000000</td>\n",
       "      <td>0.000000</td>\n",
       "      <td>0.000000</td>\n",
       "      <td>0.000000</td>\n",
       "      <td>0.000000</td>\n",
       "    </tr>\n",
       "    <tr>\n",
       "      <th>50%</th>\n",
       "      <td>3.173184e+13</td>\n",
       "      <td>5.680573e+06</td>\n",
       "      <td>37.000000</td>\n",
       "      <td>0.000000</td>\n",
       "      <td>0.000000</td>\n",
       "      <td>0.000000</td>\n",
       "      <td>0.000000</td>\n",
       "      <td>0.000000</td>\n",
       "      <td>0.000000</td>\n",
       "    </tr>\n",
       "    <tr>\n",
       "      <th>75%</th>\n",
       "      <td>9.439172e+13</td>\n",
       "      <td>5.725524e+06</td>\n",
       "      <td>55.000000</td>\n",
       "      <td>0.000000</td>\n",
       "      <td>0.000000</td>\n",
       "      <td>0.000000</td>\n",
       "      <td>0.000000</td>\n",
       "      <td>0.000000</td>\n",
       "      <td>1.000000</td>\n",
       "    </tr>\n",
       "    <tr>\n",
       "      <th>max</th>\n",
       "      <td>9.999816e+14</td>\n",
       "      <td>5.790484e+06</td>\n",
       "      <td>115.000000</td>\n",
       "      <td>1.000000</td>\n",
       "      <td>1.000000</td>\n",
       "      <td>1.000000</td>\n",
       "      <td>1.000000</td>\n",
       "      <td>4.000000</td>\n",
       "      <td>1.000000</td>\n",
       "    </tr>\n",
       "  </tbody>\n",
       "</table>\n",
       "</div>"
      ],
      "text/plain": [
       "          PatientId  AppointmentID            Age    Scholarship  \\\n",
       "count  1.105270e+05   1.105270e+05  110527.000000  110527.000000   \n",
       "mean   1.474963e+14   5.675305e+06      37.088874       0.098266   \n",
       "std    2.560949e+14   7.129575e+04      23.110205       0.297675   \n",
       "min    3.921784e+04   5.030230e+06      -1.000000       0.000000   \n",
       "25%    4.172614e+12   5.640286e+06      18.000000       0.000000   \n",
       "50%    3.173184e+13   5.680573e+06      37.000000       0.000000   \n",
       "75%    9.439172e+13   5.725524e+06      55.000000       0.000000   \n",
       "max    9.999816e+14   5.790484e+06     115.000000       1.000000   \n",
       "\n",
       "        Hipertension       Diabetes     Alcoholism        Handcap  \\\n",
       "count  110527.000000  110527.000000  110527.000000  110527.000000   \n",
       "mean        0.197246       0.071865       0.030400       0.022248   \n",
       "std         0.397921       0.258265       0.171686       0.161543   \n",
       "min         0.000000       0.000000       0.000000       0.000000   \n",
       "25%         0.000000       0.000000       0.000000       0.000000   \n",
       "50%         0.000000       0.000000       0.000000       0.000000   \n",
       "75%         0.000000       0.000000       0.000000       0.000000   \n",
       "max         1.000000       1.000000       1.000000       4.000000   \n",
       "\n",
       "        SMS_received  \n",
       "count  110527.000000  \n",
       "mean        0.321026  \n",
       "std         0.466873  \n",
       "min         0.000000  \n",
       "25%         0.000000  \n",
       "50%         0.000000  \n",
       "75%         1.000000  \n",
       "max         1.000000  "
      ]
     },
     "execution_count": 3,
     "metadata": {},
     "output_type": "execute_result"
    }
   ],
   "source": [
    "# Describe data\n",
    "df.describe()"
   ]
  },
  {
   "cell_type": "code",
   "execution_count": 4,
   "id": "4e8362ef",
   "metadata": {
    "execution": {
     "iopub.execute_input": "2025-08-18T15:59:15.974818Z",
     "iopub.status.busy": "2025-08-18T15:59:15.974539Z",
     "iopub.status.idle": "2025-08-18T15:59:15.983259Z",
     "shell.execute_reply": "2025-08-18T15:59:15.981938Z"
    },
    "papermill": {
     "duration": 0.014288,
     "end_time": "2025-08-18T15:59:15.984808",
     "exception": false,
     "start_time": "2025-08-18T15:59:15.970520",
     "status": "completed"
    },
    "tags": []
   },
   "outputs": [
    {
     "name": "stdout",
     "output_type": "stream",
     "text": [
      "\n",
      "DataFrame after setting option:\n",
      "      PatientId  AppointmentID Gender          ScheduledDay  \\\n",
      "0  2.987250e+13        5642903      F  2016-04-29T18:38:08Z   \n",
      "1  5.589978e+14        5642503      M  2016-04-29T16:08:27Z   \n",
      "2  4.262962e+12        5642549      F  2016-04-29T16:19:04Z   \n",
      "3  8.679512e+11        5642828      F  2016-04-29T17:29:31Z   \n",
      "4  8.841186e+12        5642494      F  2016-04-29T16:07:23Z   \n",
      "\n",
      "         AppointmentDay  Age      Neighbourhood  Scholarship  Hipertension  \\\n",
      "0  2016-04-29T00:00:00Z   62    JARDIM DA PENHA            0             1   \n",
      "1  2016-04-29T00:00:00Z   56    JARDIM DA PENHA            0             0   \n",
      "2  2016-04-29T00:00:00Z   62      MATA DA PRAIA            0             0   \n",
      "3  2016-04-29T00:00:00Z    8  PONTAL DE CAMBURI            0             0   \n",
      "4  2016-04-29T00:00:00Z   56    JARDIM DA PENHA            0             1   \n",
      "\n",
      "   Diabetes  Alcoholism  Handcap  SMS_received No-show  \n",
      "0         0           0        0             0      No  \n",
      "1         0           0        0             0      No  \n",
      "2         0           0        0             0      No  \n",
      "3         0           0        0             0      No  \n",
      "4         1           0        0             0      No  \n"
     ]
    }
   ],
   "source": [
    "# Set the option to display all columns\n",
    "pd.set_option('display.max_columns', None)\n",
    "\n",
    "# Display the DataFrame again to see all columns\n",
    "print(\"\\nDataFrame after setting option:\")\n",
    "print(df.head())"
   ]
  },
  {
   "cell_type": "code",
   "execution_count": 5,
   "id": "9ef0a2b1",
   "metadata": {
    "execution": {
     "iopub.execute_input": "2025-08-18T15:59:15.993402Z",
     "iopub.status.busy": "2025-08-18T15:59:15.993073Z",
     "iopub.status.idle": "2025-08-18T15:59:15.997885Z",
     "shell.execute_reply": "2025-08-18T15:59:15.997155Z"
    },
    "papermill": {
     "duration": 0.010803,
     "end_time": "2025-08-18T15:59:15.999427",
     "exception": false,
     "start_time": "2025-08-18T15:59:15.988624",
     "status": "completed"
    },
    "tags": []
   },
   "outputs": [],
   "source": [
    "# Rename columns for clarity\n",
    "df.rename(columns={'No-show': 'No_Show'}, inplace=True)"
   ]
  },
  {
   "cell_type": "code",
   "execution_count": 6,
   "id": "5b6fc3d8",
   "metadata": {
    "execution": {
     "iopub.execute_input": "2025-08-18T15:59:16.007194Z",
     "iopub.status.busy": "2025-08-18T15:59:16.006910Z",
     "iopub.status.idle": "2025-08-18T15:59:16.135739Z",
     "shell.execute_reply": "2025-08-18T15:59:16.134975Z"
    },
    "papermill": {
     "duration": 0.134583,
     "end_time": "2025-08-18T15:59:16.137458",
     "exception": false,
     "start_time": "2025-08-18T15:59:16.002875",
     "status": "completed"
    },
    "tags": []
   },
   "outputs": [],
   "source": [
    "# Fix data types\n",
    "df['ScheduledDay'] = pd.to_datetime(df['ScheduledDay'])\n",
    "df['AppointmentDay'] = pd.to_datetime(df['AppointmentDay'])\n"
   ]
  },
  {
   "cell_type": "code",
   "execution_count": 7,
   "id": "5925dc47",
   "metadata": {
    "execution": {
     "iopub.execute_input": "2025-08-18T15:59:16.145790Z",
     "iopub.status.busy": "2025-08-18T15:59:16.144942Z",
     "iopub.status.idle": "2025-08-18T15:59:16.154874Z",
     "shell.execute_reply": "2025-08-18T15:59:16.153991Z"
    },
    "papermill": {
     "duration": 0.015547,
     "end_time": "2025-08-18T15:59:16.156378",
     "exception": false,
     "start_time": "2025-08-18T15:59:16.140831",
     "status": "completed"
    },
    "tags": []
   },
   "outputs": [],
   "source": [
    "# Create new features\n",
    "df['Wait_Days'] = (df['AppointmentDay'] - df['ScheduledDay']).dt.days\n"
   ]
  },
  {
   "cell_type": "code",
   "execution_count": 8,
   "id": "1596f26b",
   "metadata": {
    "execution": {
     "iopub.execute_input": "2025-08-18T15:59:16.164711Z",
     "iopub.status.busy": "2025-08-18T15:59:16.164433Z",
     "iopub.status.idle": "2025-08-18T15:59:16.181004Z",
     "shell.execute_reply": "2025-08-18T15:59:16.180076Z"
    },
    "papermill": {
     "duration": 0.022367,
     "end_time": "2025-08-18T15:59:16.182790",
     "exception": false,
     "start_time": "2025-08-18T15:59:16.160423",
     "status": "completed"
    },
    "tags": []
   },
   "outputs": [],
   "source": [
    "# Clean invalid data\n",
    "df = df[df['Wait_Days'] >= 0]"
   ]
  },
  {
   "cell_type": "code",
   "execution_count": 9,
   "id": "ed1e6819",
   "metadata": {
    "execution": {
     "iopub.execute_input": "2025-08-18T15:59:16.190616Z",
     "iopub.status.busy": "2025-08-18T15:59:16.190336Z",
     "iopub.status.idle": "2025-08-18T15:59:16.246539Z",
     "shell.execute_reply": "2025-08-18T15:59:16.245354Z"
    },
    "papermill": {
     "duration": 0.062228,
     "end_time": "2025-08-18T15:59:16.248344",
     "exception": false,
     "start_time": "2025-08-18T15:59:16.186116",
     "status": "completed"
    },
    "tags": []
   },
   "outputs": [
    {
     "data": {
      "text/html": [
       "<div>\n",
       "<style scoped>\n",
       "    .dataframe tbody tr th:only-of-type {\n",
       "        vertical-align: middle;\n",
       "    }\n",
       "\n",
       "    .dataframe tbody tr th {\n",
       "        vertical-align: top;\n",
       "    }\n",
       "\n",
       "    .dataframe thead th {\n",
       "        text-align: right;\n",
       "    }\n",
       "</style>\n",
       "<table border=\"1\" class=\"dataframe\">\n",
       "  <thead>\n",
       "    <tr style=\"text-align: right;\">\n",
       "      <th></th>\n",
       "      <th>PatientId</th>\n",
       "      <th>AppointmentID</th>\n",
       "      <th>Age</th>\n",
       "      <th>Scholarship</th>\n",
       "      <th>Hipertension</th>\n",
       "      <th>Diabetes</th>\n",
       "      <th>Alcoholism</th>\n",
       "      <th>Handcap</th>\n",
       "      <th>SMS_received</th>\n",
       "      <th>Wait_Days</th>\n",
       "    </tr>\n",
       "  </thead>\n",
       "  <tbody>\n",
       "    <tr>\n",
       "      <th>count</th>\n",
       "      <td>7.195900e+04</td>\n",
       "      <td>7.195900e+04</td>\n",
       "      <td>71959.000000</td>\n",
       "      <td>71959.000000</td>\n",
       "      <td>71959.000000</td>\n",
       "      <td>71959.000000</td>\n",
       "      <td>71959.000000</td>\n",
       "      <td>71959.000000</td>\n",
       "      <td>71959.000000</td>\n",
       "      <td>71959.000000</td>\n",
       "    </tr>\n",
       "    <tr>\n",
       "      <th>mean</th>\n",
       "      <td>1.452606e+14</td>\n",
       "      <td>5.655042e+06</td>\n",
       "      <td>38.502564</td>\n",
       "      <td>0.092706</td>\n",
       "      <td>0.208897</td>\n",
       "      <td>0.074723</td>\n",
       "      <td>0.025320</td>\n",
       "      <td>0.020025</td>\n",
       "      <td>0.493086</td>\n",
       "      <td>14.642018</td>\n",
       "    </tr>\n",
       "    <tr>\n",
       "      <th>std</th>\n",
       "      <td>2.535667e+14</td>\n",
       "      <td>7.472189e+04</td>\n",
       "      <td>22.925421</td>\n",
       "      <td>0.290021</td>\n",
       "      <td>0.406523</td>\n",
       "      <td>0.262946</td>\n",
       "      <td>0.157096</td>\n",
       "      <td>0.154072</td>\n",
       "      <td>0.499956</td>\n",
       "      <td>16.494334</td>\n",
       "    </tr>\n",
       "    <tr>\n",
       "      <th>min</th>\n",
       "      <td>3.921784e+04</td>\n",
       "      <td>5.030230e+06</td>\n",
       "      <td>0.000000</td>\n",
       "      <td>0.000000</td>\n",
       "      <td>0.000000</td>\n",
       "      <td>0.000000</td>\n",
       "      <td>0.000000</td>\n",
       "      <td>0.000000</td>\n",
       "      <td>0.000000</td>\n",
       "      <td>0.000000</td>\n",
       "    </tr>\n",
       "    <tr>\n",
       "      <th>25%</th>\n",
       "      <td>3.968099e+12</td>\n",
       "      <td>5.617796e+06</td>\n",
       "      <td>19.000000</td>\n",
       "      <td>0.000000</td>\n",
       "      <td>0.000000</td>\n",
       "      <td>0.000000</td>\n",
       "      <td>0.000000</td>\n",
       "      <td>0.000000</td>\n",
       "      <td>0.000000</td>\n",
       "      <td>3.000000</td>\n",
       "    </tr>\n",
       "    <tr>\n",
       "      <th>50%</th>\n",
       "      <td>2.991891e+13</td>\n",
       "      <td>5.661165e+06</td>\n",
       "      <td>39.000000</td>\n",
       "      <td>0.000000</td>\n",
       "      <td>0.000000</td>\n",
       "      <td>0.000000</td>\n",
       "      <td>0.000000</td>\n",
       "      <td>0.000000</td>\n",
       "      <td>0.000000</td>\n",
       "      <td>8.000000</td>\n",
       "    </tr>\n",
       "    <tr>\n",
       "      <th>75%</th>\n",
       "      <td>9.371660e+13</td>\n",
       "      <td>5.707178e+06</td>\n",
       "      <td>57.000000</td>\n",
       "      <td>0.000000</td>\n",
       "      <td>0.000000</td>\n",
       "      <td>0.000000</td>\n",
       "      <td>0.000000</td>\n",
       "      <td>0.000000</td>\n",
       "      <td>1.000000</td>\n",
       "      <td>21.000000</td>\n",
       "    </tr>\n",
       "    <tr>\n",
       "      <th>max</th>\n",
       "      <td>9.999320e+14</td>\n",
       "      <td>5.784985e+06</td>\n",
       "      <td>115.000000</td>\n",
       "      <td>1.000000</td>\n",
       "      <td>1.000000</td>\n",
       "      <td>1.000000</td>\n",
       "      <td>1.000000</td>\n",
       "      <td>4.000000</td>\n",
       "      <td>1.000000</td>\n",
       "      <td>178.000000</td>\n",
       "    </tr>\n",
       "  </tbody>\n",
       "</table>\n",
       "</div>"
      ],
      "text/plain": [
       "          PatientId  AppointmentID           Age   Scholarship  Hipertension  \\\n",
       "count  7.195900e+04   7.195900e+04  71959.000000  71959.000000  71959.000000   \n",
       "mean   1.452606e+14   5.655042e+06     38.502564      0.092706      0.208897   \n",
       "std    2.535667e+14   7.472189e+04     22.925421      0.290021      0.406523   \n",
       "min    3.921784e+04   5.030230e+06      0.000000      0.000000      0.000000   \n",
       "25%    3.968099e+12   5.617796e+06     19.000000      0.000000      0.000000   \n",
       "50%    2.991891e+13   5.661165e+06     39.000000      0.000000      0.000000   \n",
       "75%    9.371660e+13   5.707178e+06     57.000000      0.000000      0.000000   \n",
       "max    9.999320e+14   5.784985e+06    115.000000      1.000000      1.000000   \n",
       "\n",
       "           Diabetes    Alcoholism       Handcap  SMS_received     Wait_Days  \n",
       "count  71959.000000  71959.000000  71959.000000  71959.000000  71959.000000  \n",
       "mean       0.074723      0.025320      0.020025      0.493086     14.642018  \n",
       "std        0.262946      0.157096      0.154072      0.499956     16.494334  \n",
       "min        0.000000      0.000000      0.000000      0.000000      0.000000  \n",
       "25%        0.000000      0.000000      0.000000      0.000000      3.000000  \n",
       "50%        0.000000      0.000000      0.000000      0.000000      8.000000  \n",
       "75%        0.000000      0.000000      0.000000      1.000000     21.000000  \n",
       "max        1.000000      1.000000      4.000000      1.000000    178.000000  "
      ]
     },
     "execution_count": 9,
     "metadata": {},
     "output_type": "execute_result"
    }
   ],
   "source": [
    "# Check fixed data\n",
    "df.describe()"
   ]
  },
  {
   "cell_type": "code",
   "execution_count": 10,
   "id": "83393e14",
   "metadata": {
    "execution": {
     "iopub.execute_input": "2025-08-18T15:59:16.258348Z",
     "iopub.status.busy": "2025-08-18T15:59:16.257922Z",
     "iopub.status.idle": "2025-08-18T15:59:16.268058Z",
     "shell.execute_reply": "2025-08-18T15:59:16.267186Z"
    },
    "papermill": {
     "duration": 0.016655,
     "end_time": "2025-08-18T15:59:16.269693",
     "exception": false,
     "start_time": "2025-08-18T15:59:16.253038",
     "status": "completed"
    },
    "tags": []
   },
   "outputs": [
    {
     "name": "stdout",
     "output_type": "stream",
     "text": [
      "No_Show\n",
      "No     71.480982\n",
      "Yes    28.519018\n",
      "Name: proportion, dtype: float64\n"
     ]
    }
   ],
   "source": [
    "# Simple analysis\n",
    "no_show_rate = df['No_Show'].value_counts(normalize=True) * 100\n",
    "print(no_show_rate)"
   ]
  },
  {
   "cell_type": "code",
   "execution_count": 11,
   "id": "a60498ce",
   "metadata": {
    "execution": {
     "iopub.execute_input": "2025-08-18T15:59:16.278482Z",
     "iopub.status.busy": "2025-08-18T15:59:16.278210Z",
     "iopub.status.idle": "2025-08-18T15:59:17.281189Z",
     "shell.execute_reply": "2025-08-18T15:59:17.280044Z"
    },
    "papermill": {
     "duration": 1.009384,
     "end_time": "2025-08-18T15:59:17.282959",
     "exception": false,
     "start_time": "2025-08-18T15:59:16.273575",
     "status": "completed"
    },
    "tags": []
   },
   "outputs": [],
   "source": [
    "# Save cleaned data\n",
    "df.to_csv('Medical_Appointments_Cleaned.csv', index=False)"
   ]
  },
  {
   "cell_type": "markdown",
   "id": "1720b26d",
   "metadata": {
    "papermill": {
     "duration": 0.003173,
     "end_time": "2025-08-18T15:59:17.289782",
     "exception": false,
     "start_time": "2025-08-18T15:59:17.286609",
     "status": "completed"
    },
    "tags": []
   },
   "source": [
    "## Summary of Analysis\n",
    "\n",
    "From this analysis, I have identified key patterns that can help improve patient scheduling and reduce no-show rates:\n",
    "\n",
    "The dataset is imbalanced, with more patients attending than missing appointments.\n",
    "\n",
    "Gender differences are minor but still observable.\n",
    "\n",
    "Younger patients tend to miss more appointments compared to older ones.\n",
    "\n",
    "SMS reminders have a measurable positive impact on reducing no-shows.\n",
    "\n",
    "Certain days of the week show higher absence rates, which can guide hospitals in adjusting schedules.\n",
    "\n",
    "As an aspiring data analyst, my main takeaway is that data-driven insights can directly inform healthcare operations. These findings, while simple, already demonstrate the value of using data to improve efficiency."
   ]
  }
 ],
 "metadata": {
  "kaggle": {
   "accelerator": "none",
   "dataSources": [
    {
     "datasetId": 792,
     "sourceId": 3538,
     "sourceType": "datasetVersion"
    }
   ],
   "dockerImageVersionId": 31089,
   "isGpuEnabled": false,
   "isInternetEnabled": false,
   "language": "python",
   "sourceType": "notebook"
  },
  "kernelspec": {
   "display_name": "Python 3",
   "language": "python",
   "name": "python3"
  },
  "language_info": {
   "codemirror_mode": {
    "name": "ipython",
    "version": 3
   },
   "file_extension": ".py",
   "mimetype": "text/x-python",
   "name": "python",
   "nbconvert_exporter": "python",
   "pygments_lexer": "ipython3",
   "version": "3.11.13"
  },
  "papermill": {
   "default_parameters": {},
   "duration": 9.025018,
   "end_time": "2025-08-18T15:59:17.811922",
   "environment_variables": {},
   "exception": null,
   "input_path": "__notebook__.ipynb",
   "output_path": "__notebook__.ipynb",
   "parameters": {},
   "start_time": "2025-08-18T15:59:08.786904",
   "version": "2.6.0"
  }
 },
 "nbformat": 4,
 "nbformat_minor": 5
}
